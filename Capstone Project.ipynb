{
    "cells": [
        {
            "cell_type": "markdown",
            "metadata": {},
            "source": "*** Capstone Project ***"
        },
        {
            "cell_type": "markdown",
            "metadata": {
                "collapsed": true
            },
            "source": "*** What Consumer Businesses Are Established Around Financial Centers \u2013 Hong Kong, Toronto and New York ***"
        },
        {
            "cell_type": "markdown",
            "metadata": {},
            "source": "1. Introduction "
        },
        {
            "cell_type": "markdown",
            "metadata": {},
            "source": "1.1\tBackground \nThere is no exception that the cost of real estate around financial centers are among the highest in all countries around the world, yet offer good opportunities for operating consumer businesses with high profitability potential because those employed in the financial sector are among the highest paid professionals who can afford luxury and are willing to spend. Therefore, quite a lot of entrepreneurs are very interested in setting up and running consumer businesses in these high cost yet high profitability areas.\nThe following study attempts to use advanced data analytics techniques to conduct a research for types of consumer businesses already established in three top-tier financial centers:\n\u2022\tHong Kong, which is where I come from\n\u2022\tToronto, which is where I live now\n\u2022\tNew York, which is the number one financial center for making reference to\n\n1.2\tProblem \nDue to high real estate cost, the rental expense is usually the most critical operating expense for operating a consumer business in financial center areas. If an entrepreneur chooses a type of business not sufficiently popular nor profitable then the chance for survival would become very slim. Therefore, the only chance for an entrepreneur to be successful is to pick a right kind of business to get into.\n \n1.3\tInterest \nDue to the reasons explained above, understanding what kinds of businesses are well established and have high level of popularity in other financial centers around the world would be very good reference for an entrepreneur to decide the kind of business he could set up in order to get highest chance of survival and prosper in long term.\nFor example, an entrepreneur in Hong Kong can research what kinds of consumer businesses are popular in New York and Toronto and decide if such businesses could be adopted in Hong Kong even the culture could be somewhat different. \n"
        },
        {
            "cell_type": "markdown",
            "metadata": {},
            "source": "2. Data acquisition"
        },
        {
            "cell_type": "markdown",
            "metadata": {},
            "source": "2.1 Data sources \nThe data required for conducting geographical and venue study for New York is available per guidance and instructions in the Week 3 Course Lab, and those for Toronto is available per guidance in the Week 3 Assignment.\n"
        },
        {
            "cell_type": "markdown",
            "metadata": {},
            "source": "The geographical data for Hong Kong is available from the following:\n\u2022\thttps://en.wikipedia.org/wiki/Districts_of_Hong_Kong\n\u2022\thttps://tools.wmflabs.org/geohack/geohack.php?pagename=Central_and_Western_District&params=22.28666_N_114.15497_E_type:adm2nd_region:HK"
        },
        {
            "cell_type": "markdown",
            "metadata": {},
            "source": "More in-depth division of geographical neighborhoods around the financial center district in Hong Kong is available from the following:\n\u2022\thttps://www.eac.hk/en/distco/2019dc_elect_map.htm (Electoral Affairs Commission of Hong Kong)"
        },
        {
            "cell_type": "markdown",
            "metadata": {},
            "source": "All venue data will be acquired from Foursquare. "
        },
        {
            "cell_type": "code",
            "execution_count": null,
            "metadata": {},
            "outputs": [],
            "source": ""
        }
    ],
    "metadata": {
        "kernelspec": {
            "display_name": "Python 3.6",
            "language": "python",
            "name": "python3"
        },
        "language_info": {
            "codemirror_mode": {
                "name": "ipython",
                "version": 3
            },
            "file_extension": ".py",
            "mimetype": "text/x-python",
            "name": "python",
            "nbconvert_exporter": "python",
            "pygments_lexer": "ipython3",
            "version": "3.6.8"
        }
    },
    "nbformat": 4,
    "nbformat_minor": 1
}